{
 "cells": [
  {
   "cell_type": "code",
   "execution_count": 1,
   "id": "8d130f42-4cbc-48a3-88d9-0aa4554c4eaf",
   "metadata": {},
   "outputs": [],
   "source": [
    "import numpy as np"
   ]
  },
  {
   "cell_type": "code",
   "execution_count": 2,
   "id": "aa0e4a19-8c67-4d87-8d06-5ea982fdd1bc",
   "metadata": {},
   "outputs": [],
   "source": [
    "np.set_printoptions(suppress=True)"
   ]
  },
  {
   "cell_type": "markdown",
   "id": "b4ec52fa-1799-48b7-b10f-e85b1a6d3d19",
   "metadata": {},
   "source": [
    "## State"
   ]
  },
  {
   "cell_type": "markdown",
   "id": "e4931698-4f00-4a22-a98a-cee22ef138e3",
   "metadata": {},
   "source": [
    "### 2D Kalman"
   ]
  },
  {
   "cell_type": "markdown",
   "id": "22bab7c4-8657-4192-971b-79d054b6d189",
   "metadata": {},
   "source": [
    "For a 2D Kalman,  \n",
    "**state vector:**  \n",
    "Dimension d = 4  \n",
    "$$ \\mathbf{x} =\n",
    "\\begin{bmatrix}\n",
    "x \\\\\n",
    "y \\\\\n",
    "\\dot{x} \\\\\n",
    "\\dot{y}\n",
    "\\end{bmatrix}$$\n",
    "\n",
    "**State Transition Matrix**  \n",
    "Dimension is $d^2$ = 16  \n",
    "$$F = \n",
    "\\begin{bmatrix}\n",
    "1 & 0 & dt & 0 \\\\\n",
    "0 & 1 & 0 & dt \\\\\n",
    "0 & 0 & 1 & 0 \\\\\n",
    "0 & 0 & 0 & 1\n",
    "\\end{bmatrix}$$"
   ]
  },
  {
   "cell_type": "markdown",
   "id": "6145c57a-a3e7-4c28-8994-6a802efdc420",
   "metadata": {},
   "source": [
    "## Kalman Filter design"
   ]
  },
  {
   "cell_type": "markdown",
   "id": "8fa18864-4b22-4c48-9c11-ebc04f5a70fb",
   "metadata": {},
   "source": [
    "Design a KF for the state provided above"
   ]
  },
  {
   "cell_type": "code",
   "execution_count": 22,
   "id": "9cbaf696-5e89-489f-a8a8-654560a92520",
   "metadata": {},
   "outputs": [
    {
     "data": {
      "text/plain": [
       "array([[1000.,    0.,    0.,    0.],\n",
       "       [   0., 1000.,    0.,    0.],\n",
       "       [   0.,    0., 1000.,    0.],\n",
       "       [   0.,    0.,    0., 1000.]])"
      ]
     },
     "execution_count": 22,
     "metadata": {},
     "output_type": "execute_result"
    }
   ],
   "source": [
    "x = np.array([0., 0., 0., 0.])[:,None]\n",
    "P = 1000 * np.identity(4) # high uncertainty without correlation\n",
    "u = np.array([0., 0., 0., 0.])[:,None] # assuming control vector dim. is same as dim. of state\n",
    "F = np.array([[1., 0., 1., 0.],\n",
    "              [0., 1., 0., 1.],\n",
    "              [0., 0., 1., 0.],\n",
    "              [0., 0., 0., 1.]]) #state transition matrix\n",
    "H = np.array([[1., 0., 0., 0.],\n",
    "              [0., 1., 0., 0.]]) # measurement fn. only measuring x and y (location)\n",
    "R = np.array([[1., 0.],\n",
    "              [0., 1.]]) # variance in measurement space\n",
    "I = np.identity(4)\n",
    "P\n"
   ]
  },
  {
   "cell_type": "markdown",
   "id": "9fb37dbe-0626-4539-b99a-a651d4ce69a4",
   "metadata": {},
   "source": [
    "### Filter"
   ]
  },
  {
   "cell_type": "code",
   "execution_count": 23,
   "id": "825482c1-070c-44e8-9f34-8f7becc01780",
   "metadata": {},
   "outputs": [],
   "source": [
    "measurements = [[1.,1.], [2., 2.], [3.,3.]]"
   ]
  },
  {
   "cell_type": "code",
   "execution_count": 24,
   "id": "a353e41a-9b1c-4832-be90-3134e133e730",
   "metadata": {},
   "outputs": [],
   "source": [
    "def filter(x, P, debug=False):\n",
    "    for n in range(len(measurements)):\n",
    "        z = np.asarray(measurements[n])[:,None]\n",
    "        \n",
    "\n",
    "        # prediction update\n",
    "        \n",
    "        x = F @ x + u # predicted next time step state\n",
    "        P = F @ P @ F.T # predicted uncertainty in next step\n",
    "\n",
    "        if debug:\n",
    "            print(\"Prediction\")\n",
    "            print(f\"{x=}\")\n",
    "            print(f\"{P=}\")\n",
    "            print(\"-\"*60)\n",
    "        \n",
    "        # measurement update\n",
    "        \n",
    "        y = z - H @ x\n",
    "        s = H @ P @ H.T + R\n",
    "        K = P @ H.T @ np.linalg.inv(s)\n",
    "\n",
    "        x = x + K @ y # measurement update in state\n",
    "        P = (I - K @ H) @ P # measurement update in uncertainty\n",
    "        \n",
    "        if debug:\n",
    "            print(f\"Update On measuring {z=}\")\n",
    "            print(f\"{x=}\")\n",
    "            print(f\"{P=}\")\n",
    "            print(\"=\"*60)\n",
    "\n",
    "    return x, P\n",
    "        "
   ]
  },
  {
   "cell_type": "code",
   "execution_count": 26,
   "id": "20b43f07-f959-4992-aa02-157a61be22ec",
   "metadata": {},
   "outputs": [
    {
     "data": {
      "text/plain": [
       "(array([[2.99950091],\n",
       "        [2.99950091],\n",
       "        [0.99950125],\n",
       "        [0.99950125]]),\n",
       " array([[0.83264071, 0.        , 0.49908584, 0.        ],\n",
       "        [0.        , 0.83264071, 0.        , 0.49908584],\n",
       "        [0.49908584, 0.        , 0.49875345, 0.        ],\n",
       "        [0.        , 0.49908584, 0.        , 0.49875345]]))"
      ]
     },
     "execution_count": 26,
     "metadata": {},
     "output_type": "execute_result"
    }
   ],
   "source": [
    "filter(x, P)"
   ]
  },
  {
   "cell_type": "markdown",
   "id": "0290c396-1039-48a9-bb74-c01c3139d653",
   "metadata": {},
   "source": [
    "### Other values - Example 1"
   ]
  },
  {
   "cell_type": "code",
   "execution_count": 27,
   "id": "cdc1138a-1346-4dbe-b1de-500257c516d5",
   "metadata": {},
   "outputs": [
    {
     "data": {
      "text/plain": [
       "([[5.0, 10.0], [6.0, 8.0], [7.0, 6.0], [8.0, 4.0], [9.0, 2.0], [10.0, 0.0]],\n",
       " array([[   0.,    0.,    0.,    0.],\n",
       "        [   0.,    0.,    0.,    0.],\n",
       "        [   0.,    0., 1000.,    0.],\n",
       "        [   0.,    0.,    0., 1000.]]),\n",
       " array([[0.1, 0. ],\n",
       "        [0. , 0.1]]))"
      ]
     },
     "execution_count": 27,
     "metadata": {},
     "output_type": "execute_result"
    }
   ],
   "source": [
    "x = np.array([4., 12., 0, 0.])[:,None]\n",
    "P = 1000 * np.identity(4) # high uncertainty without correlation\n",
    "P[:2, :2] = np.zeros(2) # removing uncertainty in x and y (keeping only vel. uncertainty)\n",
    "u = np.array([0., 0., 0., 0.])[:,None] # assuming control vector dim. is same as dim. of state\n",
    "dt = 0.1 # time step\n",
    "F = np.array([[1., 0., dt, 0.],\n",
    "              [0., 1., 0., dt],\n",
    "              [0., 0., 1., 0.],\n",
    "              [0., 0., 0., 1.]]) #state transition matrix\n",
    "H = np.array([[1., 0., 0., 0.],\n",
    "              [0., 1., 0., 0.]]) # measurement fn. only measuring x and y (location)\n",
    "R = np.identity(2)*0.1 # variance in measurement space\n",
    "I = np.identity(4)\n",
    "measurements = [[i+5., 10.-2*i] for i in range(6)]\n",
    "measurements, P, R"
   ]
  },
  {
   "cell_type": "code",
   "execution_count": 28,
   "id": "531fe1fd-d47e-4f21-8684-10c8a4ee7f22",
   "metadata": {},
   "outputs": [
    {
     "data": {
      "text/plain": [
       "(array([[  9.99934073],\n",
       "        [  0.00131854],\n",
       "        [  9.99890122],\n",
       "        [-19.99780244]]),\n",
       " array([[0.03955609, 0.        , 0.06592682, 0.        ],\n",
       "        [0.        , 0.03955609, 0.        , 0.06592682],\n",
       "        [0.06592682, 0.        , 0.10987804, 0.        ],\n",
       "        [0.        , 0.06592682, 0.        , 0.10987804]]))"
      ]
     },
     "execution_count": 28,
     "metadata": {},
     "output_type": "execute_result"
    }
   ],
   "source": [
    "filter(x, P)"
   ]
  },
  {
   "cell_type": "markdown",
   "id": "c4749288-bf7b-4a9b-9135-de1d28437baf",
   "metadata": {},
   "source": [
    "### Example 2"
   ]
  },
  {
   "cell_type": "code",
   "execution_count": 31,
   "id": "929c7d95-c147-4edf-aa74-7a381e047f8b",
   "metadata": {},
   "outputs": [
    {
     "data": {
      "text/plain": [
       "([[1, 4], [6, 0], [11, -4], [16, -8]],\n",
       " array([[-4.],\n",
       "        [ 8.],\n",
       "        [ 0.],\n",
       "        [ 0.]]))"
      ]
     },
     "execution_count": 31,
     "metadata": {},
     "output_type": "execute_result"
    }
   ],
   "source": [
    "measurements = [[1+5*i, 4-4*i] for i in range(4)]\n",
    "x = np.array([-4., 8., 0, 0])[:, None]\n",
    "measurements, x"
   ]
  },
  {
   "cell_type": "code",
   "execution_count": 32,
   "id": "e1e9c5fc-3381-4e35-bb04-fe598ec53879",
   "metadata": {},
   "outputs": [
    {
     "data": {
      "text/plain": [
       "(array([[ 15.99333555],\n",
       "        [ -7.99466844],\n",
       "        [ 49.98333889],\n",
       "        [-39.98667111]]),\n",
       " array([[0.05331556, 0.        , 0.1332889 , 0.        ],\n",
       "        [0.        , 0.05331556, 0.        , 0.1332889 ],\n",
       "        [0.1332889 , 0.        , 0.33322226, 0.        ],\n",
       "        [0.        , 0.1332889 , 0.        , 0.33322226]]))"
      ]
     },
     "execution_count": 32,
     "metadata": {},
     "output_type": "execute_result"
    }
   ],
   "source": [
    "filter(x,P)"
   ]
  },
  {
   "cell_type": "markdown",
   "id": "0b15c0f5-2fe4-4a8a-8ca7-0d32d9ad4205",
   "metadata": {},
   "source": [
    "### Example 3"
   ]
  },
  {
   "cell_type": "code",
   "execution_count": 34,
   "id": "d5f6dfcf-ed3b-4252-8d19-d834852703ba",
   "metadata": {},
   "outputs": [
    {
     "data": {
      "text/plain": [
       "([[1, 17], [1, 15], [1, 13], [1, 11]],\n",
       " array([[ 1.],\n",
       "        [19.],\n",
       "        [ 0.],\n",
       "        [ 0.]]))"
      ]
     },
     "execution_count": 34,
     "metadata": {},
     "output_type": "execute_result"
    }
   ],
   "source": [
    "measurements = [[1, 17-2*i] for i in range(4)]\n",
    "x = np.array([1., 19., 0, 0])[:, None]\n",
    "measurements, x"
   ]
  },
  {
   "cell_type": "code",
   "execution_count": 35,
   "id": "ab6fb2be-2e8b-4372-94a7-da57efac20a6",
   "metadata": {},
   "outputs": [
    {
     "data": {
      "text/plain": [
       "(array([[  1.        ],\n",
       "        [ 11.00266578],\n",
       "        [  0.        ],\n",
       "        [-19.99333555]]),\n",
       " array([[0.05331556, 0.        , 0.1332889 , 0.        ],\n",
       "        [0.        , 0.05331556, 0.        , 0.1332889 ],\n",
       "        [0.1332889 , 0.        , 0.33322226, 0.        ],\n",
       "        [0.        , 0.1332889 , 0.        , 0.33322226]]))"
      ]
     },
     "execution_count": 35,
     "metadata": {},
     "output_type": "execute_result"
    }
   ],
   "source": [
    "filter(x,P)"
   ]
  },
  {
   "cell_type": "code",
   "execution_count": null,
   "id": "04663c53-46cb-4700-a234-a6b69acd8d5a",
   "metadata": {},
   "outputs": [],
   "source": [
    "    "
   ]
  }
 ],
 "metadata": {
  "kernelspec": {
   "display_name": "Python 3 (ipykernel)",
   "language": "python",
   "name": "python3"
  },
  "language_info": {
   "codemirror_mode": {
    "name": "ipython",
    "version": 3
   },
   "file_extension": ".py",
   "mimetype": "text/x-python",
   "name": "python",
   "nbconvert_exporter": "python",
   "pygments_lexer": "ipython3",
   "version": "3.13.7"
  }
 },
 "nbformat": 4,
 "nbformat_minor": 5
}
