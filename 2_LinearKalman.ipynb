{
 "cells": [
  {
   "cell_type": "markdown",
   "id": "d5535cd5-c899-45f2-b217-f5df8d264794",
   "metadata": {},
   "source": [
    "## Programming Gaussian"
   ]
  },
  {
   "cell_type": "markdown",
   "id": "6c02075e-eba8-4442-a516-75941ad9d56c",
   "metadata": {},
   "source": [
    "A gaussian function can be expressed as\n",
    "\n",
    "$$f(x) = \\frac{1}{\\sqrt{2\\pi\\sigma^2}} \n",
    "       \\exp\\!\\left( -\\frac{(x - \\mu)^2}{2\\sigma^2} \\right)$$\n",
    "\n",
    "where\n",
    "\n",
    "$\\mu$ = mean (center of the distribution)\n",
    "\n",
    "$\\sigma$ = standard deviation (spread/width)\n",
    "\n",
    "$exp$ = exponential function"
   ]
  },
  {
   "cell_type": "markdown",
   "id": "39268dae-2d53-4097-8c98-f2ed7176a418",
   "metadata": {},
   "source": [
    "### Create python function to generate gaussian values of input"
   ]
  },
  {
   "cell_type": "code",
   "execution_count": 4,
   "id": "4a913b0a-8668-456f-bd01-5a3b23b99f1a",
   "metadata": {},
   "outputs": [],
   "source": [
    "from math import *\n",
    "\n",
    "def f(mu, sigma2,  x):\n",
    "    return (1/sqrt(2*pi* sigma2)) * exp((x - mu)**2 / (-2 * sigma2))"
   ]
  },
  {
   "cell_type": "code",
   "execution_count": 5,
   "id": "aecf78a3-0ac2-463e-8e27-aa8d9ed7ae68",
   "metadata": {},
   "outputs": [
    {
     "data": {
      "text/plain": [
       "0.19947114020071635"
      ]
     },
     "execution_count": 5,
     "metadata": {},
     "output_type": "execute_result"
    }
   ],
   "source": [
    "f(10,4., 10.)"
   ]
  },
  {
   "cell_type": "markdown",
   "id": "ed0887f9-74d0-4abd-b585-800a501b68fb",
   "metadata": {},
   "source": [
    "# Kalman Filter"
   ]
  },
  {
   "cell_type": "markdown",
   "id": "f3f6cb62-d035-4263-bb80-bdeea79ed1a6",
   "metadata": {},
   "source": [
    "## Steps"
   ]
  },
  {
   "cell_type": "markdown",
   "id": "f7694b9e-776f-4320-8526-0229bcda4a6a",
   "metadata": {},
   "source": [
    "Kalman Filter involves a measurement update step, and a motion update(prediction) step\n",
    "\n",
    "Measurement Update -> using Bayesian filter (Product)\n",
    "\n",
    "Motion Update -> using Total Probability (Convolution)"
   ]
  },
  {
   "cell_type": "markdown",
   "id": "2dd25d25-7bcb-4df2-8ba6-aa955c626fc7",
   "metadata": {},
   "source": [
    "## Measurement Update"
   ]
  },
  {
   "cell_type": "markdown",
   "id": "8693e2d3-5871-4fe5-899a-84ed0cd4eb7b",
   "metadata": {},
   "source": [
    "Measurement Update is the product of two gaussian probability distributions.\n",
    "\n",
    "These are prior and measurement gaussian distributions, each having its own mean $\\mu$ and variance $\\sigma$"
   ]
  },
  {
   "cell_type": "markdown",
   "id": "76f2734d-8958-4a57-b03d-1c4b984a1127",
   "metadata": {},
   "source": [
    "### Product of Gaussian distributions"
   ]
  },
  {
   "cell_type": "markdown",
   "id": "c3811a3c-0dca-410a-ac4d-436cffc9d51b",
   "metadata": {},
   "source": [
    "The resultant mean is a precision-weighted average of contributing gaussian distributions.\n",
    "\n",
    "Precision $\\mathbf{p}$ is the inverse of variance $\\mathbf{\\sigma^2}$, i.e., $$p = \\frac{1}{\\sigma^2}$$\n",
    "\n",
    "Resultan mean **in terms of precision:**\n",
    "\n",
    "$$\\mu = \\frac{p_1\\mu_1 + p_2\\mu_2}{p_1 + p_2}$$\n",
    "Resultant mean **in terms of variance:**\n",
    "$$\\mu = \\frac{\\sigma_2^2\\mu_1 + \\sigma_1^2\\mu_2}{\\sigma_1^2 + \\sigma_2^2}$$\n",
    "\n",
    "Resultant Variance:\n",
    "$$\\sigma^2 = \\frac{1}{\\frac{1}{\\sigma_1^2} + \\frac{1}{\\sigma_2^2} } = \\frac{\\sigma_1^2\\sigma_2^2}{\\sigma_1^2 + \\sigma_2^2}$$\n",
    "\n",
    "Resultant Precision:\n",
    "$$p = p_1 + p_2$$"
   ]
  },
  {
   "cell_type": "markdown",
   "id": "b6889e8c-7cc5-460e-95cb-8d59ef297c83",
   "metadata": {},
   "source": [
    "### Create function to combine (product) of two Gaussians"
   ]
  },
  {
   "cell_type": "code",
   "execution_count": 6,
   "id": "5d474bb2-ed21-4685-a25d-4e7347e5bb29",
   "metadata": {},
   "outputs": [],
   "source": [
    "def update(mean1, var1, mean2, var2):\n",
    "    mean = (var2*mean1 +var1*mean2)/(var1+var2)\n",
    "    var = 1/((1/var1) + (1/var2))\n",
    "    return [mean, var]"
   ]
  },
  {
   "cell_type": "code",
   "execution_count": 7,
   "id": "960ce734-0c55-449e-872b-1a9135402dd5",
   "metadata": {},
   "outputs": [
    {
     "data": {
      "text/plain": [
       "[11.0, 2.0]"
      ]
     },
     "execution_count": 7,
     "metadata": {},
     "output_type": "execute_result"
    }
   ],
   "source": [
    "update(10.,4.,12.,4)"
   ]
  },
  {
   "cell_type": "markdown",
   "id": "9ad38e32-c9cb-4a32-960d-632abbc4a2a9",
   "metadata": {},
   "source": [
    "## Motion Update"
   ]
  },
  {
   "cell_type": "markdown",
   "id": "819cb78b-ebb7-488e-83f5-eff237c99503",
   "metadata": {},
   "source": [
    "It is the change in the gaussian probability distribution (of where the robot is), on moving the robot.\n",
    "This is because the robot movement itself is gaussian with motion having a mean $\\nu$ and an uncertainty $\\gamma^2$\n",
    "\n",
    "The resulting prob distribution has a mean\n",
    "$$\\mu_{n+1} = \\mu_n + \\nu$$\n",
    "\n",
    "The variance of the resulting distribution is what\n",
    "$$\\sigma_{n+1}^2 = \\sigma_n^2 + \\gamma^2$$"
   ]
  },
  {
   "cell_type": "code",
   "execution_count": 8,
   "id": "15003b64-fe95-44d5-a2ed-634456e8c9fa",
   "metadata": {},
   "outputs": [],
   "source": [
    "def predict(mean1, var1, mean2, var2):\n",
    "    return [mean1+mean2, var1+var2]"
   ]
  },
  {
   "cell_type": "code",
   "execution_count": 9,
   "id": "fccf6442-36ae-47e5-877e-137dcf2fa8c3",
   "metadata": {},
   "outputs": [
    {
     "data": {
      "text/plain": [
       "[22.0, 8.0]"
      ]
     },
     "execution_count": 9,
     "metadata": {},
     "output_type": "execute_result"
    }
   ],
   "source": [
    "predict(10.,4., 12., 4.)"
   ]
  },
  {
   "cell_type": "markdown",
   "id": "f2b01e8f-99d0-4dba-a3e5-d207ece0323e",
   "metadata": {},
   "source": [
    "## Implementation"
   ]
  },
  {
   "cell_type": "code",
   "execution_count": 10,
   "id": "7391ff06-b0fc-4052-a10c-57210bbd4d54",
   "metadata": {},
   "outputs": [],
   "source": [
    "# Example\n",
    "measurements = [5., 6., 7., 9., 10.]\n",
    "motion = [1., 1., 2., 1., 1.]\n",
    "\n",
    "# variances\n",
    "measurement_sig = 4.\n",
    "motion_sig = 2.\n",
    "\n",
    "# initial belief\n",
    "mu = 0. # wrong estimate\n",
    "sig = 10000. # large uncertainty\n",
    "\n",
    "sig=0.00000001 "
   ]
  },
  {
   "cell_type": "code",
   "execution_count": 11,
   "id": "5cfb6951-fb9f-439d-b35a-10b45109ce3d",
   "metadata": {},
   "outputs": [],
   "source": [
    "def kalman_basic(initial_belief, z_sig, u_sig, z_list, u_list):\n",
    "    mu, sig = initial_belief\n",
    "    for i in range(len(z_list)):\n",
    "        z = z_list[i]\n",
    "        u = u_list[i]\n",
    "        # measurement update\n",
    "        mu,sig = update(mu, sig, z, z_sig)\n",
    "        print(f\"update:\\t[{mu:.12f},\\t{sig:.12f}]\")\n",
    "        # motion update\n",
    "        mu, sig = predict(mu, sig, u, u_sig)\n",
    "        print(f\"predict:[{mu:.12f},\\t{sig:.12f}]\")\n",
    "    "
   ]
  },
  {
   "cell_type": "code",
   "execution_count": 12,
   "id": "52740309-1658-4e87-a11d-911e07c47700",
   "metadata": {},
   "outputs": [
    {
     "name": "stdout",
     "output_type": "stream",
     "text": [
      "update:\t[0.000000012500,\t0.000000010000]\n",
      "predict:[1.000000012500,\t2.000000010000]\n",
      "update:\t[2.666666680556,\t1.333333337778]\n",
      "predict:[3.666666680556,\t3.333333337778]\n",
      "update:\t[5.181818190496,\t1.818181819504]\n",
      "predict:[7.181818190496,\t3.818181819504]\n",
      "update:\t[8.069767446458,\t1.953488372439]\n",
      "predict:[9.069767446458,\t3.953488372439]\n",
      "update:\t[9.532163745022,\t1.988304093655]\n",
      "predict:[10.532163745022,\t3.988304093655]\n"
     ]
    }
   ],
   "source": [
    "kalman_basic([mu, sig], measurement_sig, motion_sig, measurements, motion)"
   ]
  }
 ],
 "metadata": {
  "kernelspec": {
   "display_name": "Python 3 (ipykernel)",
   "language": "python",
   "name": "python3"
  },
  "language_info": {
   "codemirror_mode": {
    "name": "ipython",
    "version": 3
   },
   "file_extension": ".py",
   "mimetype": "text/x-python",
   "name": "python",
   "nbconvert_exporter": "python",
   "pygments_lexer": "ipython3",
   "version": "3.13.7"
  }
 },
 "nbformat": 4,
 "nbformat_minor": 5
}
