{
 "cells": [
  {
   "cell_type": "markdown",
   "id": "f4d59af9-2612-4808-806c-1928648980ec",
   "metadata": {},
   "source": [
    "# Particle Filter"
   ]
  },
  {
   "cell_type": "markdown",
   "id": "c6de1282-d66e-4d77-a04b-074bfd60e9c0",
   "metadata": {},
   "source": [
    "## Code for robot spawn, move and sense"
   ]
  },
  {
   "cell_type": "code",
   "execution_count": 7,
   "id": "1fb89ade-fce6-4ed0-a84a-9888f82baa6e",
   "metadata": {},
   "outputs": [],
   "source": [
    "# In this exercise, try to write a program that\n",
    "# will resample particles according to their weights.\n",
    "# Particles with higher weights should be sampled\n",
    "# more frequently (in proportion to their weight).\n",
    "\n",
    "# Don't modify anything below. Please scroll to the \n",
    "# bottom to enter your code.\n",
    "\n",
    "from math import *\n",
    "import random\n",
    "\n",
    "landmarks  = [[20.0, 20.0], [80.0, 80.0], [20.0, 80.0], [80.0, 20.0]]\n",
    "world_size = 100.0\n",
    "\n",
    "class robot:\n",
    "    def __init__(self):\n",
    "        self.x = random.random() * world_size\n",
    "        self.y = random.random() * world_size\n",
    "        self.orientation = random.random() * 2.0 * pi\n",
    "        self.forward_noise = 0.0;\n",
    "        self.turn_noise    = 0.0;\n",
    "        self.sense_noise   = 0.0;\n",
    "    \n",
    "    def set(self, new_x, new_y, new_orientation):\n",
    "        if new_x < 0 or new_x >= world_size:\n",
    "            raise ValueError('X coordinate out of bound')\n",
    "        if new_y < 0 or new_y >= world_size:\n",
    "            raise ValueError('Y coordinate out of bound')\n",
    "        if new_orientation < 0 or new_orientation >= 2 * pi:\n",
    "            raise ValueError('Orientation must be in [0..2pi]')\n",
    "        self.x = float(new_x)\n",
    "        self.y = float(new_y)\n",
    "        self.orientation = float(new_orientation)\n",
    "    \n",
    "    \n",
    "    def set_noise(self, new_f_noise, new_t_noise, new_s_noise):\n",
    "        # makes it possible to change the noise parameters\n",
    "        # this is often useful in particle filters\n",
    "        self.forward_noise = float(new_f_noise);\n",
    "        self.turn_noise    = float(new_t_noise);\n",
    "        self.sense_noise   = float(new_s_noise);\n",
    "    \n",
    "    \n",
    "    def sense(self):\n",
    "        Z = []\n",
    "        for i in range(len(landmarks)):\n",
    "            dist = sqrt((self.x - landmarks[i][0]) ** 2 + (self.y - landmarks[i][1]) ** 2)\n",
    "            dist += random.gauss(0.0, self.sense_noise)\n",
    "            Z.append(dist)\n",
    "        return Z\n",
    "    \n",
    "    \n",
    "    def move(self, turn, forward):\n",
    "        if forward < 0:\n",
    "            raise ValueError('Robot cant move backwards')      \n",
    "        \n",
    "        # turn, and add randomness to the turning command\n",
    "        orientation = self.orientation + float(turn) + random.gauss(0.0, self.turn_noise)\n",
    "        orientation %= 2 * pi\n",
    "        \n",
    "        # move, and add randomness to the motion command\n",
    "        dist = float(forward) + random.gauss(0.0, self.forward_noise)\n",
    "        x = self.x + (cos(orientation) * dist)\n",
    "        y = self.y + (sin(orientation) * dist)\n",
    "        x %= world_size    # cyclic truncate\n",
    "        y %= world_size\n",
    "        \n",
    "        # set particle\n",
    "        res = robot()\n",
    "        res.set(x, y, orientation)\n",
    "        res.set_noise(self.forward_noise, self.turn_noise, self.sense_noise)\n",
    "        return res\n",
    "    \n",
    "    def Gaussian(self, mu, sigma, x):\n",
    "        \n",
    "        # calculates the probability of x for 1-dim Gaussian with mean mu and var. sigma\n",
    "        return exp(- ((mu - x) ** 2) / (sigma ** 2) / 2.0) / sqrt(2.0 * pi * (sigma ** 2))\n",
    "    \n",
    "    \n",
    "    def measurement_prob(self, measurement):\n",
    "        \n",
    "        # calculates how likely a measurement should be\n",
    "        \n",
    "        prob = 1.0;\n",
    "        for i in range(len(landmarks)):\n",
    "            dist = sqrt((self.x - landmarks[i][0]) ** 2 + (self.y - landmarks[i][1]) ** 2)\n",
    "            prob *= self.Gaussian(dist, self.sense_noise, measurement[i])\n",
    "        return prob\n",
    "    \n",
    "    def __repr__(self):\n",
    "        return '[x=%.6s y=%.6s orient=%.6s]' % (str(self.x), str(self.y), str(self.orientation))"
   ]
  },
  {
   "cell_type": "markdown",
   "id": "f52ebeb9-d9c1-4a83-8bae-b22bfbaf0129",
   "metadata": {
    "jp-MarkdownHeadingCollapsed": true
   },
   "source": [
    "## Task 1\n",
    "\n",
    "In this case, all noise parameters are 0"
   ]
  },
  {
   "cell_type": "code",
   "execution_count": 31,
   "id": "e243379e-1521-44ae-8f67-a4591155a81c",
   "metadata": {},
   "outputs": [],
   "source": [
    "# starts at 30.0, 50.0, heading north (=pi/2)\n",
    "# turns clockwise by pi/2, moves 15 meters\n",
    "# senses\n",
    "# turns clockwise by pi/2, moves 10 meters\n",
    "# senses\n"
   ]
  },
  {
   "cell_type": "code",
   "execution_count": 33,
   "id": "459ee787-b26d-46c0-a0dc-953293559f5c",
   "metadata": {},
   "outputs": [
    {
     "name": "stdout",
     "output_type": "stream",
     "text": [
      "Landmarks at: [39.05124837953327, 46.09772228646444, 39.05124837953327, 46.09772228646444]\n",
      "Landmarks at: [32.01562118716424, 53.150729063673246, 47.16990566028302, 40.311288741492746]\n",
      "Robot at [x=45.0 y=40.0 orient=4.7123]\n"
     ]
    }
   ],
   "source": [
    "my_robot = robot()\n",
    "my_robot.set(30.,50.,pi/2)\n",
    "my_robot = my_robot.move(-pi/2, 15)\n",
    "print(f\"Landmarks at: {my_robot.sense()}\")\n",
    "my_robot = my_robot.move(-pi/2, 10)\n",
    "print(f\"Landmarks at: {my_robot.sense()}\")\n",
    "print(f\"Robot at {my_robot}\")"
   ]
  },
  {
   "cell_type": "markdown",
   "id": "96858c8a-6ba6-40c9-8fcc-b14bea52dc3b",
   "metadata": {
    "jp-MarkdownHeadingCollapsed": true
   },
   "source": [
    "## Task 2\n",
    "Adding noise parameters"
   ]
  },
  {
   "cell_type": "code",
   "execution_count": 49,
   "id": "580c09b8-3b6a-4a57-be5d-c403f87cd29d",
   "metadata": {},
   "outputs": [],
   "source": [
    "# forward_noise = 5.0, turn_noise = 0.1, sense_noise = 5.0\n",
    "# rest is same as task 1\n",
    "# starts at 30.0, 50.0, heading north (=pi/2)\n",
    "# turns clockwise by pi/2, moves 15 meters\n",
    "# senses\n",
    "# turns clockwise by pi/2, moves 10 meters\n",
    "# senses"
   ]
  },
  {
   "cell_type": "code",
   "execution_count": 50,
   "id": "857da5e6-f96b-4f4b-b3ca-e9959eadc4d0",
   "metadata": {},
   "outputs": [],
   "source": [
    "f_noise = 5.0\n",
    "t_noise = 0.1\n",
    "s_noise = 5.0"
   ]
  },
  {
   "cell_type": "code",
   "execution_count": 51,
   "id": "ce7448dc-a03a-4e95-8a61-95ded800f6c1",
   "metadata": {},
   "outputs": [
    {
     "name": "stdout",
     "output_type": "stream",
     "text": [
      "Landmarks at: [43.18807262386186, 54.170935853039126, 35.66383978464553, 39.28931584486206]\n",
      "Landmarks at: [33.82274656099736, 53.19813665763713, 48.99281850237137, 36.94686968015874]\n",
      "Robot at [x=46.400 y=38.196 orient=4.7963]\n"
     ]
    }
   ],
   "source": [
    "my_robot = robot()\n",
    "my_robot.set(30.,50.,pi/2)\n",
    "# adding noise parameters\n",
    "my_robot.set_noise(f_noise, t_noise, s_noise)\n",
    "my_robot = my_robot.move(-pi/2, 15)\n",
    "print(f\"Landmarks at: {my_robot.sense()}\")\n",
    "my_robot = my_robot.move(-pi/2, 10)\n",
    "print(f\"Landmarks at: {my_robot.sense()}\")\n",
    "print(f\"Robot at {my_robot}\")"
   ]
  },
  {
   "cell_type": "markdown",
   "id": "9b9aed39-4713-4ac4-9207-f3f9113021d3",
   "metadata": {},
   "source": [
    "## Create particles"
   ]
  },
  {
   "cell_type": "code",
   "execution_count": 63,
   "id": "47da5958-1349-4047-a197-71726c8d439b",
   "metadata": {},
   "outputs": [
    {
     "data": {
      "text/plain": [
       "1000"
      ]
     },
     "execution_count": 63,
     "metadata": {},
     "output_type": "execute_result"
    }
   ],
   "source": [
    "N = 1000\n",
    "# create n particles\n",
    "\n",
    "particles = [robot() for i in range(N)]\n",
    "\n",
    "len(particles)"
   ]
  },
  {
   "cell_type": "markdown",
   "id": "e5d7c838-faf5-4752-b78f-0a04d4b13949",
   "metadata": {},
   "source": [
    "## Move particles"
   ]
  },
  {
   "cell_type": "code",
   "execution_count": 64,
   "id": "1f76ee57-6c67-473c-93a4-73f7ab60d9d8",
   "metadata": {},
   "outputs": [],
   "source": [
    "# turn by 0.1 , and move by 5\n",
    "p_moved = [x.move(0.1, 5) for x in particles]"
   ]
  },
  {
   "cell_type": "code",
   "execution_count": 65,
   "id": "f8e4afc2-1823-48fd-9419-ed870feb1371",
   "metadata": {},
   "outputs": [
    {
     "data": {
      "text/plain": [
       "([x=49.641 y=82.278 orient=0.6657], [x=53.245 y=85.743 orient=0.7657])"
      ]
     },
     "execution_count": 65,
     "metadata": {},
     "output_type": "execute_result"
    }
   ],
   "source": [
    "particles[0], p_moved[0]"
   ]
  },
  {
   "cell_type": "code",
   "execution_count": null,
   "id": "a7801e3b-b68c-486f-9079-bb1a6f8a2628",
   "metadata": {},
   "outputs": [],
   "source": []
  }
 ],
 "metadata": {
  "kernelspec": {
   "display_name": "Python 3 (ipykernel)",
   "language": "python",
   "name": "python3"
  },
  "language_info": {
   "codemirror_mode": {
    "name": "ipython",
    "version": 3
   },
   "file_extension": ".py",
   "mimetype": "text/x-python",
   "name": "python",
   "nbconvert_exporter": "python",
   "pygments_lexer": "ipython3",
   "version": "3.11.13"
  }
 },
 "nbformat": 4,
 "nbformat_minor": 5
}
