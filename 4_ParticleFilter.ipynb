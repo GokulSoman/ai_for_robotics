{
 "cells": [
  {
   "cell_type": "code",
   "execution_count": 171,
   "id": "5fc50003-a55b-46b5-b557-061b2f423059",
   "metadata": {},
   "outputs": [],
   "source": [
    "# --------------\n",
    "# USER INSTRUCTIONS\n",
    "#\n",
    "# Now you will put everything together.\n",
    "#\n",
    "# First make sure that your sense and move functions\n",
    "# work as expected for the test cases provided at the\n",
    "# bottom of the previous two programming assignments.\n",
    "# Once you are satisfied, copy your sense and move\n",
    "# definitions into the robot class on this page, BUT\n",
    "# now include noise.\n",
    "#\n",
    "# A good way to include noise in the sense step is to\n",
    "# add Gaussian noise, centered at zero with variance\n",
    "# of self.bearing_noise to each bearing. You can do this\n",
    "# with the command random.gauss(0, self.bearing_noise)\n",
    "#\n",
    "# In the move step, you should make sure that your\n",
    "# actual steering angle is chosen from a Gaussian\n",
    "# distribution of steering angles. This distribution\n",
    "# should be centered at the intended steering angle\n",
    "# with variance of self.steering_noise.\n",
    "#\n",
    "# Feel free to use the included set_noise function.\n",
    "#\n",
    "# Please do not modify anything except where indicated\n",
    "# below.\n",
    "\n",
    "from math import *\n",
    "import random\n",
    "\n",
    "# --------\n",
    "# \n",
    "# some top level parameters\n",
    "#\n",
    "\n",
    "max_steering_angle = pi / 4.0 # You do not need to use this value, but keep in mind the limitations of a real car.\n",
    "bearing_noise = 0.1 # Noise parameter: should be included in sense function.\n",
    "steering_noise = 0.1 # Noise parameter: should be included in move function.\n",
    "distance_noise = 5.0 # Noise parameter: should be included in move function.\n",
    "\n",
    "tolerance_xy = 15.0 # Tolerance for localization in the x and y directions.\n",
    "tolerance_orientation = 0.25 # Tolerance for orientation.\n",
    "\n",
    "\n",
    "# --------\n",
    "# \n",
    "# the \"world\" has 4 landmarks.\n",
    "# the robot's initial coordinates are somewhere in the square\n",
    "# represented by the landmarks.\n",
    "#\n",
    "# NOTE: Landmark coordinates are given in (y, x) form and NOT\n",
    "# in the traditional (x, y) format!\n",
    "\n",
    "landmarks  = [[0.0, 100.0], [0.0, 0.0], [100.0, 0.0], [100.0, 100.0]] # position of 4 landmarks in (y, x) format.\n",
    "world_size = 100.0 # world is NOT cyclic. Robot is allowed to travel \"out of bounds\"\n",
    "\n",
    "# ------------------------------------------------\n",
    "# \n",
    "# this is the robot class\n",
    "#\n",
    "\n",
    "class robot:\n",
    "\n",
    "    # --------\n",
    "    # init: \n",
    "    #    creates robot and initializes location/orientation \n",
    "    #\n",
    "\n",
    "    def __init__(self, length = 20.0):\n",
    "        self.x = random.random() * world_size # initial x position\n",
    "        self.y = random.random() * world_size # initial y position\n",
    "        self.orientation = random.random() * 2.0 * pi # initial orientation\n",
    "        self.length = length # length of robot\n",
    "        self.bearing_noise  = 0.0 # initialize bearing noise to zero\n",
    "        self.steering_noise = 0.0 # initialize steering noise to zero\n",
    "        self.distance_noise = 0.0 # initialize distance noise to zero\n",
    "\n",
    "    # --------\n",
    "    # set: \n",
    "    #    sets a robot coordinate\n",
    "    #\n",
    "\n",
    "    def set(self, new_x, new_y, new_orientation):\n",
    "\n",
    "        if new_orientation < 0 or new_orientation >= 2 * pi:\n",
    "            raise ValueError('Orientation must be in [0..2pi]')\n",
    "        self.x = float(new_x)\n",
    "        self.y = float(new_y)\n",
    "        self.orientation = float(new_orientation)\n",
    "\n",
    "    # --------\n",
    "    # set_noise: \n",
    "    #    sets the noise parameters\n",
    "    #\n",
    "    def set_noise(self, new_b_noise, new_s_noise, new_d_noise):\n",
    "        # makes it possible to change the noise parameters\n",
    "        # this is often useful in particle filters\n",
    "        self.bearing_noise  = float(new_b_noise)\n",
    "        self.steering_noise = float(new_s_noise)\n",
    "        self.distance_noise = float(new_d_noise)\n",
    "\n",
    "    # --------\n",
    "    # measurement_prob\n",
    "    #    computes the probability of a measurement\n",
    "    #  \n",
    "\n",
    "    def measurement_prob(self, measurements):\n",
    "\n",
    "        # calculate the correct measurement\n",
    "        predicted_measurements = self.sense(0) # Our sense function took 0 as an argument to switch off noise.\n",
    "\n",
    "\n",
    "        # compute errors\n",
    "        error = 1.0\n",
    "        for i in range(len(measurements)):\n",
    "            error_bearing = abs(measurements[i] - predicted_measurements[i])\n",
    "            error_bearing = (error_bearing + pi) % (2.0 * pi) - pi # truncate\n",
    "            \n",
    "\n",
    "            # update Gaussian\n",
    "            error *= (exp(- (error_bearing ** 2) / (self.bearing_noise ** 2) / 2.0) /  \n",
    "                      sqrt(2.0 * pi * (self.bearing_noise ** 2)))\n",
    "\n",
    "        return error\n",
    "    \n",
    "    def __repr__(self): #allows us to print robot attributes.\n",
    "        return '[x=%.6s y=%.6s orient=%.6s]' % (str(self.x), str(self.y), \n",
    "                                                str(self.orientation))\n",
    "    \n",
    "    ############# ONLY ADD/MODIFY CODE BELOW HERE ###################\n",
    "       \n",
    "    # --------\n",
    "    # move: \n",
    "    #   \n",
    "    \n",
    "    # copy your code from the previous exercise\n",
    "    # and modify it so that it simulates motion noise\n",
    "    # according to the noise parameters\n",
    "    #           self.steering_noise\n",
    "    #           self.distance_noise\n",
    "\n",
    "    def move(self, motion):\n",
    "\n",
    "        steering_angle, forward = motion\n",
    "        \n",
    "        if forward < 0: raise ValueError(\"Vehicle cannot move backwards\")\n",
    "\n",
    "        # move forward\n",
    "        forward = float(forward) + random.gauss(0, self.distance_noise)\n",
    "        steering_angle = float(steering_angle) + random.gauss(0, self.steering_noise)\n",
    "        steering_angle %= (2*pi) # limit to 2pi\n",
    "\n",
    "        orientation = self.orientation\n",
    "        # print(f\"Initial: {orientation=}\")\n",
    "        # limit steering to limit\n",
    "        if steering_angle < pi:        \n",
    "            steering_angle = min(steering_angle, max_steering_angle)\n",
    "        else:\n",
    "            steering_angle = max(steering_angle, 2*pi - max_steering_angle)\n",
    "  \n",
    "\n",
    "        turn_angle = (forward / self.length) * tan(steering_angle)\n",
    "        # print(f\"{turn_angle=}\")\n",
    "        if abs(turn_angle) < 1e-3: # straight motion\n",
    "            x = self.x + forward * cos(orientation)\n",
    "            y = self.y + forward * sin(orientation)\n",
    "        else:\n",
    "            # print(f\"{steering_angle=}\")\n",
    "            # print(f\"{orientation=}\")\n",
    "            # print(f\"{self.orientation=}\")\n",
    "            # print(f\"{turn_angle=}\")\n",
    "            \n",
    "            R = forward / turn_angle # radius of turn\n",
    "            # instantatnous center and bicycle model\n",
    "            cx = self.x - R*sin(self.orientation)\n",
    "            cy = self.y + R*cos(self.orientation)\n",
    "\n",
    "            # now find new x and y\n",
    "            \n",
    "            orientation = (self.orientation + turn_angle) % (2*pi)\n",
    "            x = cx + R*sin(self.orientation + turn_angle)\n",
    "            y = cy - R*cos(self.orientation + turn_angle)\n",
    "\n",
    "        # print(f\"Final {orientation=}\")\n",
    "        # set particle\n",
    "        res = robot(length = self.length)\n",
    "        res.set(x, y, orientation)\n",
    "        res.set_noise(self.bearing_noise, self.steering_noise, self.distance_noise)\n",
    "\n",
    "        return res\n",
    "        \n",
    "    # --------\n",
    "    # sense: \n",
    "    #    \n",
    "\n",
    "    # copy your code from the previous exercise\n",
    "    # and modify it so that it simulates bearing noise\n",
    "    # according to\n",
    "    #           self.bearing_noise\n",
    "\n",
    "    def sense(self, noise_on=1):\n",
    "        Z = []\n",
    "        for i in range(len(landmarks)):\n",
    "            # landmarks provided as [y,x]??\n",
    "            z_i = atan2(landmarks[i][0] - self.y, landmarks[i][1] - self.x) % (2*pi)\n",
    "            if noise_on:\n",
    "                z_i = random.gauss(z_i, self.bearing_noise) \n",
    "            z_i = (z_i - self.orientation) % (2*pi)\n",
    "            Z.append(z_i)\n",
    "        return Z\n",
    "\n",
    "    ############## ONLY ADD/MODIFY CODE ABOVE HERE ####################\n",
    "\n",
    "# --------\n",
    "#\n",
    "# extract position from a particle set\n",
    "# \n",
    "\n",
    "def get_position(p):\n",
    "    x = 0.0\n",
    "    y = 0.0\n",
    "    orientation = 0.0\n",
    "    for i in range(len(p)):\n",
    "        x += p[i].x\n",
    "        y += p[i].y\n",
    "        # orientation is tricky because it is cyclic. By normalizing\n",
    "        # around the first particle we are somewhat more robust to\n",
    "        # the 0=2pi problem\n",
    "        orientation += (((p[i].orientation - p[0].orientation + pi) % (2.0 * pi)) \n",
    "                        + p[0].orientation - pi)\n",
    "    return [x / len(p), y / len(p), orientation / len(p)]\n",
    "\n",
    "# --------\n",
    "#\n",
    "# The following code generates the measurements vector\n",
    "# You can use it to develop your solution.\n",
    "# \n",
    "\n",
    "\n",
    "def generate_ground_truth(motions):\n",
    "\n",
    "    myrobot = robot()\n",
    "    myrobot.set_noise(bearing_noise, steering_noise, distance_noise)\n",
    "\n",
    "    Z = []\n",
    "    T = len(motions)\n",
    "\n",
    "    for t in range(T):\n",
    "        myrobot = myrobot.move(motions[t])\n",
    "        Z.append(myrobot.sense())\n",
    "    #print 'Robot:    ', myrobot\n",
    "    return [myrobot, Z]\n",
    "\n",
    "# --------\n",
    "#\n",
    "# The following code prints the measurements associated\n",
    "# with generate_ground_truth\n",
    "#\n",
    "\n",
    "def print_measurements(Z):\n",
    "\n",
    "    T = len(Z)\n",
    "\n",
    "    print('measurements = [[%.8s, %.8s, %.8s, %.8s],' % \\\n",
    "        (str(Z[0][0]), str(Z[0][1]), str(Z[0][2]), str(Z[0][3])))\n",
    "    for t in range(1,T-1):\n",
    "        print('                [%.8s, %.8s, %.8s, %.8s],' % \\\n",
    "            (str(Z[t][0]), str(Z[t][1]), str(Z[t][2]), str(Z[t][3])))\n",
    "    print('                [%.8s, %.8s, %.8s, %.8s]]' % \\\n",
    "        (str(Z[T-1][0]), str(Z[T-1][1]), str(Z[T-1][2]), str(Z[T-1][3])))\n",
    "\n",
    "# --------\n",
    "#\n",
    "# The following code checks to see if your particle filter\n",
    "# localizes the robot to within the desired tolerances\n",
    "# of the true position. The tolerances are defined at the top.\n",
    "#\n",
    "\n",
    "def check_output(final_robot, estimated_position):\n",
    "\n",
    "    error_x = abs(final_robot.x - estimated_position[0])\n",
    "    error_y = abs(final_robot.y - estimated_position[1])\n",
    "    error_orientation = abs(final_robot.orientation - estimated_position[2])\n",
    "    error_orientation = (error_orientation + pi) % (2.0 * pi) - pi\n",
    "    correct = error_x < tolerance_xy and error_y < tolerance_xy \\\n",
    "              and error_orientation < tolerance_orientation\n",
    "    return correct\n",
    "\n",
    "\n",
    "\n",
    "def particle_filter(motions, measurements, N=500): # I know it's tempting, but don't change N!\n",
    "    # --------\n",
    "    #\n",
    "    # Make particles\n",
    "    # \n",
    "\n",
    "    p = []\n",
    "    for i in range(N):\n",
    "        r = robot()\n",
    "        r.set_noise(bearing_noise, steering_noise, distance_noise)\n",
    "        p.append(r)\n",
    "\n",
    "    # --------\n",
    "    #\n",
    "    # Update particles\n",
    "    #     \n",
    "\n",
    "    for t in range(len(motions)):\n",
    "    \n",
    "        # motion update (prediction)\n",
    "        p2 = []\n",
    "        for i in range(N):\n",
    "            p2.append(p[i].move(motions[t]))\n",
    "        p = p2\n",
    "\n",
    "        # measurement update\n",
    "        w = []\n",
    "        for i in range(N):\n",
    "            w.append(p[i].measurement_prob(measurements[t]))\n",
    "\n",
    "        # resampling\n",
    "        p3 = []\n",
    "        index = int(random.random() * N)\n",
    "        beta = 0.0\n",
    "        mw = max(w)\n",
    "        for i in range(N):\n",
    "            beta += random.random() * 2.0 * mw\n",
    "            while beta > w[index]:\n",
    "                beta -= w[index]\n",
    "                index = (index + 1) % N\n",
    "            p3.append(p[index])\n",
    "        p = p3\n",
    "    \n",
    "    return get_position(p)\n",
    "\n",
    "## IMPORTANT: You may uncomment the test cases below to test your code.\n",
    "## But when you submit this code, your test cases MUST be commented\n",
    "## out.\n",
    "##\n",
    "## You can test whether your particle filter works using the\n",
    "## function check_output (see test case 2). We will be using a similar\n",
    "## function. Note: Even for a well-implemented particle filter this\n",
    "## function occasionally returns False. This is because a particle\n",
    "## filter is a randomized algorithm. We will be testing your code\n",
    "## multiple times. Make sure check_output returns True at least 80%\n",
    "## of the time.\n",
    "\n",
    "\n",
    " \n",
    "## --------\n",
    "## TEST CASES:\n",
    "## \n",
    "##1) Calling the particle_filter function with the following\n",
    "##    motions and measurements should return a [x,y,orientation]\n",
    "##    vector near [x=93.476 y=75.186 orient=5.2664], that is, the\n",
    "##    robot's true location.\n",
    "##\n",
    "##motions = [[2. * pi / 10, 20.] for row in range(8)]\n",
    "##measurements = [[4.746936, 3.859782, 3.045217, 2.045506],\n",
    "##                [3.510067, 2.916300, 2.146394, 1.598332],\n",
    "##                [2.972469, 2.407489, 1.588474, 1.611094],\n",
    "##                [1.906178, 1.193329, 0.619356, 0.807930],\n",
    "##                [1.352825, 0.662233, 0.144927, 0.799090],\n",
    "##                [0.856150, 0.214590, 5.651497, 1.062401],\n",
    "##                [0.194460, 5.660382, 4.761072, 2.471682],\n",
    "##                [5.717342, 4.736780, 3.909599, 2.342536]]\n",
    "##\n",
    "##print particle_filter(motions, measurements)\n",
    "\n",
    "## 2) You can generate your own test cases by generating\n",
    "##    measurements using the generate_ground_truth function.\n",
    "##    It will print the robot's last location when calling it.\n",
    "##\n",
    "##\n",
    "##number_of_iterations = 6\n",
    "##motions = [[2. * pi / 20, 12.] for row in range(number_of_iterations)]\n",
    "##\n",
    "##x = generate_ground_truth(motions)\n",
    "##final_robot = x[0]\n",
    "##measurements = x[1]\n",
    "##estimated_position = particle_filter(motions, measurements)\n",
    "##print_measurements(measurements)\n",
    "##print 'Ground truth:    ', final_robot\n",
    "##print 'Particle filter: ', estimated_position\n",
    "##print 'Code check:      ', check_output(final_robot, estimated_position)"
   ]
  },
  {
   "cell_type": "code",
   "execution_count": null,
   "id": "69164821-392a-44ea-bb3a-d3a46f24551d",
   "metadata": {},
   "outputs": [],
   "source": []
  },
  {
   "cell_type": "markdown",
   "id": "518cf5f1-d108-40dd-9500-cd98b922c569",
   "metadata": {},
   "source": [
    "## Task 1 & 2\n",
    "check whether move is working"
   ]
  },
  {
   "cell_type": "code",
   "execution_count": 172,
   "id": "75457dba-64f5-4933-872d-af085e790417",
   "metadata": {},
   "outputs": [
    {
     "name": "stdout",
     "output_type": "stream",
     "text": [
      "Robot:  [x=0.0 y=0.0 orient=0.0]\n",
      "Robot:  [x=10.0 y=0.0 orient=0.0]\n",
      "Robot:  [x=19.861 y=1.4333 orient=0.2886]\n",
      "Robot:  [x=39.034 y=7.1270 orient=0.2886]\n"
     ]
    }
   ],
   "source": [
    "length = 20.\n",
    "steering_noise =0.0\n",
    "distance_noise = 0.0\n",
    "\n",
    "myrobot = robot(length)\n",
    "myrobot.set(0.0, 0.0, 0.0)\n",
    "myrobot.set_noise(bearing_noise, steering_noise, distance_noise)\n",
    "\n",
    "motions = [[0.0, 10.0], [pi / 6.0, 10.0], [0.0, 20.0]]\n",
    "# motions = [[-0.2, 10] for row in range(10)]\n",
    "\n",
    "T = len(motions)\n",
    "\n",
    "print('Robot: ', myrobot)\n",
    "for t in range(T):\n",
    "    # print(f\"Move:   {t=}, {motions[t]=}\")\n",
    "    myrobot = myrobot.move(motions[t])\n",
    "    print('Robot: ', myrobot)"
   ]
  },
  {
   "cell_type": "code",
   "execution_count": 173,
   "id": "16a70001-e521-4a1f-82d4-a0d598c3f6e4",
   "metadata": {},
   "outputs": [
    {
     "data": {
      "text/plain": [
       "[[0.0, 10.0], [0.5235987755982988, 10.0], [0.0, 20.0]]"
      ]
     },
     "execution_count": 173,
     "metadata": {},
     "output_type": "execute_result"
    }
   ],
   "source": [
    "motions"
   ]
  },
  {
   "cell_type": "markdown",
   "id": "91b48c9a-4333-42e6-a190-886f57020731",
   "metadata": {},
   "source": [
    "## Task 3,4"
   ]
  },
  {
   "cell_type": "code",
   "execution_count": 174,
   "id": "dc89ffaf-eb0f-4050-b31b-40de8ce29e88",
   "metadata": {},
   "outputs": [
    {
     "name": "stdout",
     "output_type": "stream",
     "text": [
      "Robot:\t[x=30.0 y=20.0 orient=0.6283]\n",
      "Measurement:[5.376567117456516, 3.101276726419402, 1.3012484663475101, 0.22364779645531352]\n"
     ]
    }
   ],
   "source": [
    "length = 20.\n",
    "steering_noise =0.0\n",
    "distance_noise = 0.0\n",
    "bearing_noise = 0.0\n",
    "\n",
    "my_robot = robot(length)\n",
    "# my_robot.set(30.0,20.0,0.0)\n",
    "my_robot.set(30.0,20.0,pi/5)\n",
    "my_robot.set_noise(bearing_noise, steering_noise, distance_noise)\n",
    "\n",
    "# motions = [[0.0, 10.0],[pi/6, 10.],[0.0, 20.0]]\n",
    "# motions =\n",
    "print(f\"Robot:\\t{my_robot}\")\n",
    "print(f\"Measurement:{my_robot.sense()}\")"
   ]
  },
  {
   "cell_type": "markdown",
   "id": "801797a7-824d-4c78-8caf-7d1212772759",
   "metadata": {},
   "source": [
    "## Task 5"
   ]
  },
  {
   "cell_type": "code",
   "execution_count": 236,
   "id": "6507d427-19e7-4dd9-bc56-592820fb72e1",
   "metadata": {},
   "outputs": [
    {
     "name": "stdout",
     "output_type": "stream",
     "text": [
      "[93.68381791648447, 71.17479901448604, 5.304500604809186]\n"
     ]
    }
   ],
   "source": [
    "##1) Calling the particle_filter function with the following\n",
    "##    motions and measurements should return a [x,y,orientation]\n",
    "##    vector near [x=93.476 y=75.186 orient=5.2664], that is, the\n",
    "##    robot's true location.\n",
    "##\n",
    "max_steering_angle = pi/4.0\n",
    "length = 20.\n",
    "steering_noise =0.1\n",
    "distance_noise = 5.0\n",
    "bearing_noise = 0.1\n",
    "\n",
    "\n",
    "motions = [[2. * pi / 10, 20.] for row in range(8)]\n",
    "measurements = [[4.746936, 3.859782, 3.045217, 2.045506],\n",
    "               [3.510067, 2.916300, 2.146394, 1.598332],\n",
    "               [2.972469, 2.407489, 1.588474, 1.611094],\n",
    "               [1.906178, 1.193329, 0.619356, 0.807930],\n",
    "               [1.352825, 0.662233, 0.144927, 0.799090],\n",
    "               [0.856150, 0.214590, 5.651497, 1.062401],\n",
    "               [0.194460, 5.660382, 4.761072, 2.471682],\n",
    "               [5.717342, 4.736780, 3.909599, 2.342536]]\n",
    "\n",
    "print(particle_filter(motions, measurements))"
   ]
  },
  {
   "cell_type": "markdown",
   "id": "4bb3a9cf-2cfb-4fd0-98a2-f42a6a70156f",
   "metadata": {},
   "source": [
    "## Task 6"
   ]
  },
  {
   "cell_type": "code",
   "execution_count": 237,
   "id": "171dbe05-1b49-4d69-a375-e039e0148b0e",
   "metadata": {},
   "outputs": [
    {
     "name": "stdout",
     "output_type": "stream",
     "text": [
      "Code check:       True\n",
      "Code check:       True\n",
      "Code check:       False\n",
      "Code check:       False\n",
      "Code check:       True\n",
      "Code check:       True\n",
      "Code check:       True\n",
      "Code check:       True\n",
      "Code check:       True\n",
      "Code check:       True\n",
      "Code check:       True\n",
      "Code check:       True\n",
      "Code check:       False\n",
      "Code check:       True\n",
      "Code check:       True\n",
      "Code check:       True\n",
      "Code check:       True\n",
      "Code check:       True\n",
      "Code check:       True\n",
      "Code check:       False\n"
     ]
    }
   ],
   "source": [
    "for t in range(20):\n",
    "    number_of_iterations = 6\n",
    "    motions = [[2. * pi / 20, 12.] for row in range(number_of_iterations)]\n",
    "    \n",
    "    x = generate_ground_truth(motions)\n",
    "    final_robot = x[0]\n",
    "    measurements = x[1]\n",
    "    estimated_position = particle_filter(motions, measurements)\n",
    "    # print_measurements(measurements)\n",
    "    # print('Ground truth:    ', final_robot)\n",
    "    # print('Particle filter: ', estimated_position)\n",
    "    print('Code check:      ', check_output(final_robot, estimated_position))"
   ]
  },
  {
   "cell_type": "markdown",
   "id": "d02abb74-5fbc-45bf-8ac0-3e6a1c640e73",
   "metadata": {},
   "source": [
    "## Other fns"
   ]
  },
  {
   "cell_type": "code",
   "execution_count": 141,
   "id": "2fcfd9a8-3faa-4bad-8c88-67999c624b1c",
   "metadata": {},
   "outputs": [],
   "source": [
    "def pi_fn(val):\n",
    "    new_val = val/pi\n",
    "    return f\"{new_val:.2f}pi\""
   ]
  },
  {
   "cell_type": "code",
   "execution_count": 142,
   "id": "03b398b1-feec-4ab1-8911-fa7256021076",
   "metadata": {},
   "outputs": [
    {
     "data": {
      "text/plain": [
       "'0.17pi'"
      ]
     },
     "execution_count": 142,
     "metadata": {},
     "output_type": "execute_result"
    }
   ],
   "source": [
    "pi_fn(0.5235987755982988)"
   ]
  },
  {
   "cell_type": "code",
   "execution_count": 47,
   "id": "4b003d3d-9377-46c2-9e2b-99c47cdc9c9c",
   "metadata": {},
   "outputs": [
    {
     "data": {
      "text/plain": [
       "'0.09pi'"
      ]
     },
     "execution_count": 47,
     "metadata": {},
     "output_type": "execute_result"
    }
   ],
   "source": [
    "pi_fn(0.2886)"
   ]
  },
  {
   "cell_type": "code",
   "execution_count": 48,
   "id": "21bac9ed-4bd9-4f8b-8b96-bbc643da15ff",
   "metadata": {},
   "outputs": [
    {
     "data": {
      "text/plain": [
       "0.5235987755982988"
      ]
     },
     "execution_count": 48,
     "metadata": {},
     "output_type": "execute_result"
    }
   ],
   "source": [
    "pi/6"
   ]
  },
  {
   "cell_type": "code",
   "execution_count": 58,
   "id": "87a913d9-c8d4-4d08-b0fd-87de36bf69ce",
   "metadata": {},
   "outputs": [
    {
     "data": {
      "text/plain": [
       "1.633123935319537e+16"
      ]
     },
     "execution_count": 58,
     "metadata": {},
     "output_type": "execute_result"
    }
   ],
   "source": [
    "tan(pi/2)"
   ]
  },
  {
   "cell_type": "code",
   "execution_count": 62,
   "id": "62626146-3626-4713-99dd-db6bf2418ea6",
   "metadata": {},
   "outputs": [
    {
     "data": {
      "text/plain": [
       "False"
      ]
     },
     "execution_count": 62,
     "metadata": {},
     "output_type": "execute_result"
    }
   ],
   "source": [
    "-inf > 0"
   ]
  },
  {
   "cell_type": "code",
   "execution_count": 127,
   "id": "89ad1915-c6dc-4084-b4f1-2ec0865be2a6",
   "metadata": {},
   "outputs": [
    {
     "data": {
      "text/plain": [
       "'1.50pi'"
      ]
     },
     "execution_count": 127,
     "metadata": {},
     "output_type": "execute_result"
    }
   ],
   "source": [
    "pi_fn(-pi/2 % (2*pi))"
   ]
  },
  {
   "cell_type": "code",
   "execution_count": 149,
   "id": "4e5f0be2-fcc2-4c7e-aa99-206e820f36f7",
   "metadata": {},
   "outputs": [],
   "source": [
    "def b (c=10):\n",
    "    print(c)"
   ]
  },
  {
   "cell_type": "code",
   "execution_count": 151,
   "id": "c5d6e0ac-48aa-43c0-ac3c-97e8df1edd5e",
   "metadata": {},
   "outputs": [
    {
     "name": "stdout",
     "output_type": "stream",
     "text": [
      "10\n"
     ]
    }
   ],
   "source": [
    "b()"
   ]
  },
  {
   "cell_type": "code",
   "execution_count": 154,
   "id": "3971e783-d655-4328-b53a-a2590e4da6f8",
   "metadata": {},
   "outputs": [
    {
     "name": "stdout",
     "output_type": "stream",
     "text": [
      "100\n"
     ]
    }
   ],
   "source": [
    "b(100)"
   ]
  },
  {
   "cell_type": "code",
   "execution_count": null,
   "id": "3bf70105-8204-4413-a317-420c0107f5fc",
   "metadata": {},
   "outputs": [],
   "source": []
  }
 ],
 "metadata": {
  "kernelspec": {
   "display_name": "Python 3 (ipykernel)",
   "language": "python",
   "name": "python3"
  },
  "language_info": {
   "codemirror_mode": {
    "name": "ipython",
    "version": 3
   },
   "file_extension": ".py",
   "mimetype": "text/x-python",
   "name": "python",
   "nbconvert_exporter": "python",
   "pygments_lexer": "ipython3",
   "version": "3.11.13"
  }
 },
 "nbformat": 4,
 "nbformat_minor": 5
}
