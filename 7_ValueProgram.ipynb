{
 "cells": [
  {
   "cell_type": "code",
   "execution_count": 1,
   "id": "88bc4c7a-a975-44fe-bca4-7e6b85ee344e",
   "metadata": {},
   "outputs": [],
   "source": [
    "# ----------\n",
    "# User Instructions:\n",
    "# \n",
    "# Create a function compute_value which returns\n",
    "# a grid of values. The value of a cell is the minimum\n",
    "# number of moves required to get from the cell to the goal. \n",
    "#\n",
    "# If a cell is a wall or it is impossible to reach the goal from a cell,\n",
    "# assign that cell a value of 99.\n",
    "# ----------\n",
    "\n",
    "grid = [[0, 1, 0, 0, 0, 0],\n",
    "        [0, 1, 0, 0, 0, 0],\n",
    "        [0, 1, 0, 0, 0, 0],\n",
    "        [0, 1, 0, 0, 0, 0],\n",
    "        [0, 0, 0, 0, 1, 0]]\n",
    "goal = [len(grid)-1, len(grid[0])-1]\n",
    "cost = 1 # the cost associated with moving from a cell to an adjacent one\n",
    "\n",
    "delta = [[-1, 0 ], # go up\n",
    "         [ 0, -1], # go left\n",
    "         [ 1, 0 ], # go down\n",
    "         [ 0, 1 ]] # go right\n",
    "\n",
    "delta_name = ['^', '<', 'v', '>']\n",
    "\n",
    "def compute_value(grid,goal,cost):\n",
    "    # ----------------------------------------\n",
    "    # insert code below\n",
    "    value = [[99 for col in grid[0]] for row in grid]\n",
    "    x,y = goal\n",
    "    curr_val = 0\n",
    "    value[x][y] = curr_val\n",
    "    for i, d in enumerate(delta):\n",
    "        dx,dy = delta\n",
    "        x2 = x + dx\n",
    "        y2 = y + dy\n",
    "        if (0 <= x2 < len(grid[0])) and (0 <= y2 < len(grid)):\n",
    "            if grid[x2][y2] == 0:\n",
    "                value[x2][y2] = curr_val + cost\n",
    "        \n",
    "                \n",
    "                \n",
    "                \n",
    "            \n",
    "    # ----------------------------------------\n",
    "    \n",
    "    # make sure your function returns a grid of values as \n",
    "    # demonstrated in the previous video.\n",
    "    return value "
   ]
  },
  {
   "cell_type": "code",
   "execution_count": null,
   "id": "de9134e1-006d-488e-ba8b-105292b86d4b",
   "metadata": {},
   "outputs": [],
   "source": []
  }
 ],
 "metadata": {
  "kernelspec": {
   "display_name": "Python 3 (ipykernel)",
   "language": "python",
   "name": "python3"
  },
  "language_info": {
   "codemirror_mode": {
    "name": "ipython",
    "version": 3
   },
   "file_extension": ".py",
   "mimetype": "text/x-python",
   "name": "python",
   "nbconvert_exporter": "python",
   "pygments_lexer": "ipython3",
   "version": "3.11.13"
  }
 },
 "nbformat": 4,
 "nbformat_minor": 5
}
