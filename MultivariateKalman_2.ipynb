{
 "cells": [
  {
   "cell_type": "code",
   "execution_count": 1,
   "id": "d30dcd97-952d-459e-8c23-f195ded7043b",
   "metadata": {},
   "outputs": [],
   "source": [
    "from copy import deepcopy\n",
    "import matplotlib.pyplot as plt\n",
    "import matplotlib as mpl\n",
    "import numpy as np\n",
    "\n",
    "%matplotlib widget"
   ]
  },
  {
   "cell_type": "markdown",
   "id": "5ec2cbb4-fdce-4ba1-b644-51cec774cac4",
   "metadata": {},
   "source": [
    "# Multivariate Gaussian"
   ]
  },
  {
   "cell_type": "markdown",
   "id": "bae0f88a-a522-4ae7-bb20-0e66d674d242",
   "metadata": {},
   "source": [
    "The equation for multivariate gaussian comes out as\n",
    "\n",
    "$$\n",
    "p(\\mathbf{x}) = (2\\pi)^{-d/2}|\\Sigma|^{-1/2}\n",
    "\\exp^{\\left( -\\tfrac{1}{2} (\\mathbf{x} - \\boldsymbol{\\mu})^\\top \n",
    "\\Sigma^{-1} (\\mathbf{x} - \\boldsymbol{\\mu}) \\right)}\n",
    "$$\n",
    "\n",
    "Components:\n",
    "$d$ = dimension of the vector  \n",
    "$x$ = random vector ($d×1$)  \n",
    "$\\mu$ = mean vector ($d×1$)  \n",
    "$\\Sigma$ = covariance matrix ($d×d$, symmetric & positive-definite)  \n",
    "$|\\Sigma|$= determinant of $\\Sigma$  "
   ]
  },
  {
   "cell_type": "markdown",
   "id": "f17ad5dc-53b0-4299-9edd-904a8123ac58",
   "metadata": {},
   "source": [
    "## Implementation"
   ]
  },
  {
   "cell_type": "code",
   "execution_count": 6,
   "id": "e598ac4b-85fd-4301-9659-e883d352ad2e",
   "metadata": {},
   "outputs": [],
   "source": [
    "# Provided values\n",
    "\n",
    "measurements  = [1., 2., 3.]\n",
    "\n",
    "x = np.array([0.,0.])[:,None] # Initial belief\n",
    "P = np.array([[1000., 0.], [0., 1000.]]) # uncertainty\n",
    "u = np.zeros_like(x) # external motion, here 0\n",
    "F = np.array([[1., 1.], [0., 1.]]) # state transition matrix\n",
    "H = np.array([[1., 0.]]) # measurement fn.\n",
    "R = np.array([[1.]]) # measurement uncertainty\n",
    "I = np.identity(2)"
   ]
  },
  {
   "cell_type": "markdown",
   "id": "3212f452-43ae-47dc-b95d-0389970db426",
   "metadata": {},
   "source": [
    "### Notes based on given values\n",
    "x -> state (location and velocity)  \n",
    "P -> no correlation between location and velocity, high uncertainty for both  \n",
    "u -> is 0, so no effect  \n",
    "F -> here, $x_{t+1} = x_t + \\dot{x_t}$ , and $\\dot{x_{t+1}} = \\dot{x_t}$  \n",
    "H -> here, only $x$ (location is measured)  \n",
    "R -> location uncertainty, variance is 1, hence s.d is 1"
   ]
  },
  {
   "cell_type": "code",
   "execution_count": 7,
   "id": "cfc274bb-305b-4577-9f21-5c1ae0b83336",
   "metadata": {},
   "outputs": [],
   "source": [
    "def filter(x, P):\n",
    "    \"\"\"\n",
    "        x -> state\n",
    "        P -> covariance matrix (uncertainty)\n",
    "    \"\"\"\n",
    "    for n in range(len(measurements)):\n",
    "        z = measurements[n]\n",
    "\n",
    "        # measurement update\n",
    "\n",
    "        y = z - H @ x # error (residual)\n",
    "\n",
    "        s = H @ P @ H.T  + R # projecting the error to measurement space??\n",
    "\n",
    "        K = P @ H.T @ np.linalg.inv(s) # how much the estimate is to be moved from prediction.\n",
    "        # K is a vector of  gains affecting each state variable\n",
    "        # K=0, estimate = prediction, K = 1, estimate = measurement\n",
    "\n",
    "        x = x + K * y # prediction + kalman gain * residual\n",
    "\n",
    "        P = (I- K @ H) @ P\n",
    "\n",
    "        # prediction update (for next time step) \n",
    "\n",
    "        x = F @ x + u\n",
    "\n",
    "        P = F @ P @ F.T\n",
    "\n",
    "        \n",
    "\n",
    "        print(f\"{x=}\")\n",
    "        print()\n",
    "        print(f\"{P=}\")"
   ]
  },
  {
   "cell_type": "code",
   "execution_count": 8,
   "id": "93ef6c51-0966-4d06-8eae-fac68dc929b5",
   "metadata": {},
   "outputs": [
    {
     "name": "stdout",
     "output_type": "stream",
     "text": [
      "x=array([[0.999001],\n",
      "       [0.      ]])\n",
      "\n",
      "P=array([[1000.999001, 1000.      ],\n",
      "       [1000.      , 1000.      ]])\n",
      "x=array([[2.99800299],\n",
      "       [0.999002  ]])\n",
      "\n",
      "P=array([[4.99002494, 2.99301795],\n",
      "       [2.99301795, 1.99501297]])\n",
      "x=array([[3.99966644],\n",
      "       [0.99999983]])\n",
      "\n",
      "P=array([[2.33189042, 0.99916761],\n",
      "       [0.99916761, 0.49950058]])\n"
     ]
    }
   ],
   "source": [
    "filter(x, P)"
   ]
  },
  {
   "cell_type": "markdown",
   "id": "01c4079b-a1fe-4120-a2f6-947a138b65a2",
   "metadata": {},
   "source": [
    "**Things to Note**\n",
    "  - The covariance matrix now has correlation (non-diagonal elements are larger numbers)\n",
    "  - The variance (spread/confusion) decreased from the initial provided value 1000 to max of 2.33\n",
    "  - The velocity is correctly estimated to be approx. 1\n",
    "  - The filter is accurately predicting the next measurement"
   ]
  },
  {
   "cell_type": "code",
   "execution_count": 10,
   "id": "a2f79ac1-00f9-4c1a-9766-50e6e8b8b363",
   "metadata": {},
   "outputs": [
    {
     "data": {
      "text/plain": [
       "array([0])"
      ]
     },
     "execution_count": 10,
     "metadata": {},
     "output_type": "execute_result"
    }
   ],
   "source": [
    "1-np.array([1])"
   ]
  },
  {
   "cell_type": "code",
   "execution_count": null,
   "id": "6b3bfa3e-8d79-4cb5-b26d-27c2940e66b0",
   "metadata": {},
   "outputs": [],
   "source": []
  }
 ],
 "metadata": {
  "kernelspec": {
   "display_name": "Python 3 (ipykernel)",
   "language": "python",
   "name": "python3"
  },
  "language_info": {
   "codemirror_mode": {
    "name": "ipython",
    "version": 3
   },
   "file_extension": ".py",
   "mimetype": "text/x-python",
   "name": "python",
   "nbconvert_exporter": "python",
   "pygments_lexer": "ipython3",
   "version": "3.11.13"
  }
 },
 "nbformat": 4,
 "nbformat_minor": 5
}
