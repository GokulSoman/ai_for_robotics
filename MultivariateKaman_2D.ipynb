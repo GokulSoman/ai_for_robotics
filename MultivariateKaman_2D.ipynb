{
 "cells": [
  {
   "cell_type": "code",
   "execution_count": 1,
   "id": "8d130f42-4cbc-48a3-88d9-0aa4554c4eaf",
   "metadata": {},
   "outputs": [],
   "source": [
    "import numpy as np"
   ]
  },
  {
   "cell_type": "code",
   "execution_count": null,
   "id": "aa0e4a19-8c67-4d87-8d06-5ea982fdd1bc",
   "metadata": {},
   "outputs": [],
   "source": []
  },
  {
   "cell_type": "raw",
   "id": "848fafbe-6750-4ad1-8fca-4f32e3d33da2",
   "metadata": {},
   "source": [
    "## State"
   ]
  },
  {
   "cell_type": "markdown",
   "id": "22bab7c4-8657-4192-971b-79d054b6d189",
   "metadata": {},
   "source": [
    "For a 2D Kalman,  \n",
    "state vector: $$ \\mathbf{x} =\n",
    "\\begin{bmatrix}\n",
    "x \\\\\n",
    "y \\\\\n",
    "\\dot{x} \\\\\n",
    "\\dot{y}\n",
    "\\end{bmatrix}$$\n",
    "\n",
    "State Transition Matrix  \n",
    "$$F = \n",
    "\\begin{bmatrix}\n",
    "1 & 0 & dt & 0 \\\\\n",
    "0 & 1 & 0 & dt \\\\\n",
    "0 & 0 & 1 & 0 \\\\\n",
    "0 & 0 & 0 & 1\n",
    "\\end{bmatrix}$$"
   ]
  },
  {
   "cell_type": "code",
   "execution_count": null,
   "id": "4c8cdd07-51d4-4f98-84e7-ab65ad16727d",
   "metadata": {},
   "outputs": [],
   "source": []
  }
 ],
 "metadata": {
  "kernelspec": {
   "display_name": "Python 3 (ipykernel)",
   "language": "python",
   "name": "python3"
  },
  "language_info": {
   "codemirror_mode": {
    "name": "ipython",
    "version": 3
   },
   "file_extension": ".py",
   "mimetype": "text/x-python",
   "name": "python",
   "nbconvert_exporter": "python",
   "pygments_lexer": "ipython3",
   "version": "3.11.13"
  }
 },
 "nbformat": 4,
 "nbformat_minor": 5
}
